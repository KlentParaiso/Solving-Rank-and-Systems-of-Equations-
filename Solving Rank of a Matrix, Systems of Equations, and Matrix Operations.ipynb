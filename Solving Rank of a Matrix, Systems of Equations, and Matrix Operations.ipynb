{
 "cells": [
  {
   "cell_type": "code",
   "execution_count": 15,
   "id": "de1fc500-57ab-412f-b2cf-20a0e08a4641",
   "metadata": {},
   "outputs": [
    {
     "name": "stdout",
     "output_type": "stream",
     "text": [
      "The rank of the matrix A is: 2\n"
     ]
    }
   ],
   "source": [
    "import numpy as np\n",
    "A = np.array([\n",
    "    [1, 2, 0, 4],\n",
    "    [3, 6, 0, 8],\n",
    "    [5, 10, 0, 12],\n",
    "    [7, 14, 0, 16]\n",
    "])\n",
    "\n",
    "# Calculate the rank\n",
    "rank_A = np.linalg.matrix_rank(A)\n",
    "\n",
    "print(f\"The rank of the matrix A is: {rank_A}\")"
   ]
  },
  {
   "cell_type": "code",
   "execution_count": null,
   "id": "8f4ade2b-6f99-4d31-ba22-72d67ce55129",
   "metadata": {},
   "outputs": [],
   "source": []
  },
  {
   "cell_type": "markdown",
   "id": "ad98c490-cb9f-4a01-bfa0-8cebe199ccf8",
   "metadata": {},
   "source": [
    "# Problem 1: Rank of a Matrix"
   ]
  },
  {
   "cell_type": "code",
   "execution_count": 16,
   "id": "c929b364-c57c-463c-b38c-84543a8c0645",
   "metadata": {},
   "outputs": [
    {
     "name": "stdout",
     "output_type": "stream",
     "text": [
      "The rank of the matrix A is: 2\n"
     ]
    }
   ],
   "source": [
    "import numpy as np\n",
    "\n",
    "# Define the matrix\n",
    "A = np.array([\n",
    "    [1, 2, 0, 4],\n",
    "    [3, 6, 0, 8],\n",
    "    [5, 10, 0, 12],\n",
    "    [7, 14, 0, 16]\n",
    "])\n",
    "\n",
    "# Calculate the rank\n",
    "rank_A = np.linalg.matrix_rank(A)\n",
    "\n",
    "print(f\"The rank of the matrix A is: {rank_A}\")\n"
   ]
  },
  {
   "cell_type": "markdown",
   "id": "82a6d678-69cc-4026-86af-10a049ec63a2",
   "metadata": {},
   "source": [
    "# Problem 2: Solve of a 3x3 System of Equations"
   ]
  },
  {
   "cell_type": "code",
   "execution_count": 17,
   "id": "e1be6d94-dccf-41f6-bf80-c07b4687f735",
   "metadata": {},
   "outputs": [
    {
     "name": "stdout",
     "output_type": "stream",
     "text": [
      "x = 0.500, y = 0.500, z = 5.000\n"
     ]
    }
   ],
   "source": [
    "\n",
    "\n",
    "# Coefficient matrix\n",
    "A2 = np.array([\n",
    "    [1, 1, 1],\n",
    "    [2, 4, 3],\n",
    "    [0, 0, 1]\n",
    "])\n",
    "# Constant vector\n",
    "b2 = np.array([6, 18, 5])\n",
    "\n",
    "# Solve using matrix inverse\n",
    "x2 = np.linalg.inv(A2).dot(b2)\n",
    "\n",
    "print(f\"x = {x2[0]:.3f}, y = {x2[1]:.3f}, z = {x2[2]:.3f}\")\n"
   ]
  },
  {
   "cell_type": "markdown",
   "id": "9d09509a-c0af-49cd-8323-ba57d0c44d35",
   "metadata": {},
   "source": [
    "# Problem 4: Solve of a 3x3 System of Equations"
   ]
  },
  {
   "cell_type": "code",
   "execution_count": 19,
   "id": "0112d383-755f-44ae-872a-ba30807e699d",
   "metadata": {},
   "outputs": [
    {
     "name": "stdout",
     "output_type": "stream",
     "text": [
      "x1 = -1.625, x2 = 6.000, x3 = 2.875, x4 = 2.750\n"
     ]
    }
   ],
   "source": [
    "# Coefficient matrix\n",
    "A4 = np.array([\n",
    "    [1, 1, 1, 1],\n",
    "    [2, 1, 0, 3],\n",
    "    [4, 3, 2, 1],\n",
    "    [3, 0, 5, 2]\n",
    "])\n",
    "# Constant vector\n",
    "b4 = np.array([10, 11, 20, 15])\n",
    "\n",
    "# Solve using matrix inverse\n",
    "x4 = np.linalg.inv(A4).dot(b4)\n",
    "\n",
    "print(f\"x1 = {x4[0]:.3f}, x2 = {x4[1]:.3f}, x3 = {x4[2]:.3f}, x4 = {x4[3]:.3f}\")\n"
   ]
  }
 ],
 "metadata": {
  "kernelspec": {
   "display_name": "Python 3 (ipykernel)",
   "language": "python",
   "name": "python3"
  },
  "language_info": {
   "codemirror_mode": {
    "name": "ipython",
    "version": 3
   },
   "file_extension": ".py",
   "mimetype": "text/x-python",
   "name": "python",
   "nbconvert_exporter": "python",
   "pygments_lexer": "ipython3",
   "version": "3.12.7"
  }
 },
 "nbformat": 4,
 "nbformat_minor": 5
}
